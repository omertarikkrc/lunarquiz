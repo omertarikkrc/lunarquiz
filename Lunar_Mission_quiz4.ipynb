{
  "cells": [
    {
      "cell_type": "markdown",
      "metadata": {
        "id": "PD32FmWavEno"
      },
      "source": [
        "## Lunar Missions Quiz 4\n",
        "Cemil eray halici ve Ömer Tarık Karaca sunar\n",
        "\n",
        "katsayı ve verilen değerler:"
      ]
    },
    {
      "cell_type": "markdown",
      "metadata": {},
      "source": [
        "## V_min ne değer varsa onu girebilirsin\n",
        "diğer yerlerle dokunmazsan seviniriz."
      ]
    },
    {
      "cell_type": "code",
      "execution_count": 154,
      "metadata": {},
      "outputs": [],
      "source": [
        "V_min=2200          # [m/s] erayın hızı benim hız 2200"
      ]
    },
    {
      "cell_type": "code",
      "execution_count": 155,
      "metadata": {
        "id": "gUW2w_kxwjN_"
      },
      "outputs": [],
      "source": [
        "import math, numpy as np\n",
        "import pandas as pd"
      ]
    },
    {
      "cell_type": "code",
      "execution_count": 156,
      "metadata": {
        "id": "ba440ixAt5E9"
      },
      "outputs": [],
      "source": [
        "R_earth=6.3781366e6 # [m]\n",
        "mu=3.9859792e14     # [m^3/s^2]\n",
        "V_max=5400          # [m/s]\n"
      ]
    },
    {
      "cell_type": "code",
      "execution_count": 157,
      "metadata": {
        "id": "cJVI2fMpvCxZ"
      },
      "outputs": [],
      "source": [
        "E_mech=V_max**2/2-mu/R_earth                   # mechanical energy [m^2/s^2]\n",
        "R_max=mu/((V_min**2-V_max**2)/2+(mu/R_earth))  # Apogee Distance [m]\n",
        "h=R_max*V_min                                  # Angular Momentum [m^2/s]\n",
        "e=-(h**2/(mu*R_max))+1                         # Eccentricity [-]"
      ]
    },
    {
      "cell_type": "code",
      "execution_count": 158,
      "metadata": {
        "id": "IIeqFcz8wYQf"
      },
      "outputs": [],
      "source": [
        "#initial True Anamoly\n",
        "Theta_initial=np.arccos(((h**2/(mu*R_earth))-1)/e)                      # [rad] to degree *180/np.pi\n",
        "#final True Anamoly\n",
        "Theta_final=2*np.pi-Theta_initial                                       # [rad] to degree *180/np.pi\n",
        "#flight path angle\n",
        "gama=np.arctan((e*np.sin(Theta_initial))/(1+e*np.cos(Theta_initial)))   # [rad] to degree *180/np.pi\n",
        "range=(Theta_final-Theta_initial)*R_earth                               # [m]"
      ]
    },
    {
      "cell_type": "markdown",
      "metadata": {
        "id": "djJid22745WZ"
      },
      "source": [
        "##Sonuç yazdıma tablosu\n",
        "lütfen kodda oynamalar yapmayın\n",
        "results içinde true anomalyleri geri derece cinsinden yazdım."
      ]
    },
    {
      "cell_type": "code",
      "execution_count": 159,
      "metadata": {
        "id": "E9EIvuSl8ZGS"
      },
      "outputs": [],
      "source": [
        "results=[V_max,R_max,R_max-R_earth,gama,-gama,V_min,e,Theta_initial*180/np.pi,Theta_final*180/np.pi,range]\n",
        "parameters=[\"final_speed\",\"distance of apogee\",\"max altitude\",\"initial launch angle\",\"final flight path angle\",\"apogee speed\",\"eccentricity\",\"initial true anomaly\",\"final true anomaly\",\"range\"]\n",
        "units=[\"m/s\",\"m\",\"m\",\"deg\",\"deg\",\"m/s\",\"-\",\"deg\",\"deg\",\"m\"]"
      ]
    },
    {
      "cell_type": "markdown",
      "metadata": {
        "id": "K9HWxl0-yv7H"
      },
      "source": [
        "##Sonuçlar\n"
      ]
    },
    {
      "cell_type": "code",
      "execution_count": 160,
      "metadata": {
        "id": "LG1hEgU7yi7z"
      },
      "outputs": [],
      "source": [
        "df = pd.DataFrame({\"Parameters\" :parameters, \"Value\":results, \"Unit\": units})"
      ]
    },
    {
      "cell_type": "code",
      "execution_count": 161,
      "metadata": {
        "colab": {
          "base_uri": "https://localhost:8080/",
          "height": 363
        },
        "id": "tTBQHDB40bBq",
        "outputId": "be89de88-8f58-4cf1-ec93-f32dbcbb19ed"
      },
      "outputs": [
        {
          "data": {
            "text/html": [
              "<div>\n",
              "<style scoped>\n",
              "    .dataframe tbody tr th:only-of-type {\n",
              "        vertical-align: middle;\n",
              "    }\n",
              "\n",
              "    .dataframe tbody tr th {\n",
              "        vertical-align: top;\n",
              "    }\n",
              "\n",
              "    .dataframe thead th {\n",
              "        text-align: right;\n",
              "    }\n",
              "</style>\n",
              "<table border=\"1\" class=\"dataframe\">\n",
              "  <thead>\n",
              "    <tr style=\"text-align: right;\">\n",
              "      <th></th>\n",
              "      <th>Parameters</th>\n",
              "      <th>Value</th>\n",
              "      <th>Unit</th>\n",
              "    </tr>\n",
              "  </thead>\n",
              "  <tbody>\n",
              "    <tr>\n",
              "      <th>0</th>\n",
              "      <td>final_speed</td>\n",
              "      <td>5.400000e+03</td>\n",
              "      <td>m/s</td>\n",
              "    </tr>\n",
              "    <tr>\n",
              "      <th>1</th>\n",
              "      <td>distance of apogee</td>\n",
              "      <td>7.918994e+06</td>\n",
              "      <td>m</td>\n",
              "    </tr>\n",
              "    <tr>\n",
              "      <th>2</th>\n",
              "      <td>max altitude</td>\n",
              "      <td>1.540857e+06</td>\n",
              "      <td>m</td>\n",
              "    </tr>\n",
              "    <tr>\n",
              "      <th>3</th>\n",
              "      <td>initial launch angle</td>\n",
              "      <td>1.040452e+00</td>\n",
              "      <td>deg</td>\n",
              "    </tr>\n",
              "    <tr>\n",
              "      <th>4</th>\n",
              "      <td>final flight path angle</td>\n",
              "      <td>-1.040452e+00</td>\n",
              "      <td>deg</td>\n",
              "    </tr>\n",
              "    <tr>\n",
              "      <th>5</th>\n",
              "      <td>apogee speed</td>\n",
              "      <td>2.200000e+03</td>\n",
              "      <td>m/s</td>\n",
              "    </tr>\n",
              "    <tr>\n",
              "      <th>6</th>\n",
              "      <td>eccentricity</td>\n",
              "      <td>9.038431e-01</td>\n",
              "      <td>-</td>\n",
              "    </tr>\n",
              "    <tr>\n",
              "      <th>7</th>\n",
              "      <td>initial true anomaly</td>\n",
              "      <td>1.669818e+02</td>\n",
              "      <td>deg</td>\n",
              "    </tr>\n",
              "    <tr>\n",
              "      <th>8</th>\n",
              "      <td>final true anomaly</td>\n",
              "      <td>1.930182e+02</td>\n",
              "      <td>deg</td>\n",
              "    </tr>\n",
              "    <tr>\n",
              "      <th>9</th>\n",
              "      <td>range</td>\n",
              "      <td>2.898353e+06</td>\n",
              "      <td>m</td>\n",
              "    </tr>\n",
              "  </tbody>\n",
              "</table>\n",
              "</div>"
            ],
            "text/plain": [
              "                Parameters         Value Unit\n",
              "0              final_speed  5.400000e+03  m/s\n",
              "1       distance of apogee  7.918994e+06    m\n",
              "2             max altitude  1.540857e+06    m\n",
              "3     initial launch angle  1.040452e+00  deg\n",
              "4  final flight path angle -1.040452e+00  deg\n",
              "5             apogee speed  2.200000e+03  m/s\n",
              "6             eccentricity  9.038431e-01    -\n",
              "7     initial true anomaly  1.669818e+02  deg\n",
              "8       final true anomaly  1.930182e+02  deg\n",
              "9                    range  2.898353e+06    m"
            ]
          },
          "execution_count": 161,
          "metadata": {},
          "output_type": "execute_result"
        }
      ],
      "source": [
        "df"
      ]
    }
  ],
  "metadata": {
    "colab": {
      "provenance": []
    },
    "kernelspec": {
      "display_name": "Python 3",
      "name": "python3"
    },
    "language_info": {
      "codemirror_mode": {
        "name": "ipython",
        "version": 3
      },
      "file_extension": ".py",
      "mimetype": "text/x-python",
      "name": "python",
      "nbconvert_exporter": "python",
      "pygments_lexer": "ipython3",
      "version": "3.13.2"
    }
  },
  "nbformat": 4,
  "nbformat_minor": 0
}
