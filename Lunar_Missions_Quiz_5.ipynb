{
  "nbformat": 4,
  "nbformat_minor": 0,
  "metadata": {
    "colab": {
      "provenance": [],
      "authorship_tag": "ABX9TyOxsMdkZKp0ibfk55/3jSSp",
      "include_colab_link": true
    },
    "kernelspec": {
      "name": "python3",
      "display_name": "Python 3"
    },
    "language_info": {
      "name": "python"
    }
  },
  "cells": [
    {
      "cell_type": "markdown",
      "metadata": {
        "id": "view-in-github",
        "colab_type": "text"
      },
      "source": [
        "<a href=\"https://colab.research.google.com/github/omertarikkrc/lunarquiz/blob/main/Lunar_Missions_Quiz_5.ipynb\" target=\"_parent\"><img src=\"https://colab.research.google.com/assets/colab-badge.svg\" alt=\"Open In Colab\"/></a>"
      ]
    },
    {
      "cell_type": "markdown",
      "source": [
        "## Quiz 5\n"
      ],
      "metadata": {
        "id": "NDUMfwK2M9gC"
      }
    },
    {
      "cell_type": "code",
      "source": [
        "L=1000 # [km]  sizin değeriniz"
      ],
      "metadata": {
        "id": "GEcboNUJPUWz"
      },
      "execution_count": 8,
      "outputs": []
    },
    {
      "cell_type": "code",
      "source": [
        "import math\n",
        "import numpy as np\n",
        "import pandas as pd\n",
        "import sympy as sp\n",
        "R_earth=6.3781366e6 # [m]\n",
        "R_a = 6.3781366e6 + L * 1000\n",
        "mu = 3.9859792e14"
      ],
      "metadata": {
        "id": "pddsCqA8N-0I"
      },
      "execution_count": 34,
      "outputs": []
    },
    {
      "cell_type": "code",
      "source": [
        "h,e = sp.symbols('h e')\n",
        "# Define the equations\n",
        "eq1 = sp.Eq(h**2 / (mu * (1 + e * sp.cos(sp.pi))), R_a)\n",
        "eq2 = sp.Eq(h**2 / (mu * (1 + e * sp.cos(sp.pi + sp.pi / 6))), R_earth)\n",
        "\n",
        "# Use nonlinsolve for nonlinear equations\n",
        "result = sp.nonlinsolve([eq1, eq2], [h, e])\n",
        "\n",
        "# Print the result\n",
        "print(result)\n",
        "\n"
      ],
      "metadata": {
        "colab": {
          "base_uri": "https://localhost:8080/"
        },
        "id": "NyxiILhnQ3Cl",
        "outputId": "ed2844d5-9b7f-461d-c39f-5fb432bee235"
      },
      "execution_count": 48,
      "outputs": [
        {
          "output_type": "stream",
          "name": "stdout",
          "text": [
            "{(-36811592731.2781, 0.539226496403968), (36811592731.2781, 0.539226496403968)}\n"
          ]
        }
      ]
    }
  ]
}